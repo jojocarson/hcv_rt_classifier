{
 "cells": [
  {
   "cell_type": "markdown",
   "metadata": {},
   "source": [
    "## 03 Predictions & bootstrapped condfidence intervals"
   ]
  },
  {
   "cell_type": "code",
   "execution_count": 2,
   "metadata": {},
   "outputs": [],
   "source": [
    "# import libraries\n",
    "import numpy as np\n",
    "from sklearn.ensemble import RandomForestClassifier\n",
    "import matplotlib.pyplot as plt"
   ]
  },
  {
   "cell_type": "markdown",
   "metadata": {},
   "source": [
    "### Apply the model to the PBS data to get predictions"
   ]
  },
  {
   "cell_type": "code",
   "execution_count": null,
   "metadata": {},
   "outputs": [],
   "source": [
    "# best model taken from optimisation in previous steps\n",
    "best_model = RandomForestClassifier(criterion='entropy', max_depth=10, \n",
    "                    max_features=15, n_estimators=500, random_state=0)\n",
    "\n",
    "# declare feature vector and target variable in training set\n",
    "X = rt_data.drop(['reinfection'], axis=1)\n",
    "y = rt_data['reinfection']\n",
    "best_model.fit(X, y)\n",
    "\n",
    "# use best model after comparing output of nested cross validations \n",
    "#for random forest and gradient boosting classifiers\n",
    "prediction = best_model.predict(pbs_data)"
   ]
  },
  {
   "cell_type": "markdown",
   "metadata": {
    "tags": []
   },
   "source": [
    "### Compute the bootstrapped confidence intervals"
   ]
  },
  {
   "cell_type": "code",
   "execution_count": null,
   "metadata": {},
   "outputs": [],
   "source": [
    "# configure bootstrap\n",
    "n_iterations = 1000\n",
    " \n",
    "# run bootstrap\n",
    "predictions_list = list()\n",
    "for i in range(n_iterations):\n",
    "    # prepare train and test sets\n",
    "    train = rt_data.sample(frac=1, replace=True)\n",
    "    # fit model\n",
    "    X = train.drop(['reinfection'], axis=1)\n",
    "    y = train['reinfection']\n",
    "    best_model.fit(X, y)\n",
    "    # predict on PBS\n",
    "    prediction = best_model.predict(pbs_data) \n",
    "                                              \n",
    "    # store predictions\n",
    "    predictions_list.append(prediction)\n",
    "\n",
    "# transform into array\n",
    "predictions_array = np.vstack(predictions_list) \n",
    "\n",
    "## to get number and proprotion of predictions for reinfection\n",
    "num_reinfections = predictions_array.sum(axis=1)\n",
    "mean_reinfections = predictions_array.mean(axis=1)\n",
    "\n",
    "## to get number and proprotion of predictions for virological failure\n",
    "num_vf = (predictions_array==0).sum(axis=1)\n",
    "mean_vf = (predictions_array==0).mean(axis=1)"
   ]
  },
  {
   "cell_type": "code",
   "execution_count": null,
   "metadata": {},
   "outputs": [],
   "source": [
    "# plot scores\n",
    "sns.set(rc = {'figure.figsize':(7,5)})\n",
    "plt.hist(num_reinfections, bins=30, color='darkturquoise', alpha=0.6)\n",
    "plt.ylabel('Number of models', fontsize=14)\n",
    "plt.xlabel('Number of retreatments for reinfection', fontsize=14)\n",
    "plt.tight_layout()\n",
    "plt.savefig('Figures/bootstrapCI_github_absolute.png')\n",
    "plt.show()\n",
    "\n",
    "# plot prediction scores for reinfection retreatment as proportion\n",
    "sns.set(rc = {'figure.figsize':(7,5)})\n",
    "plt.hist(mean_reinfections, bins=30, color='darkturquoise', alpha=0.6)\n",
    "plt.ylabel('Number of models', fontsize=14)\n",
    "plt.xlabel('Proportion of retreatments for reinfection', fontsize=14)\n",
    "plt.tight_layout()\n",
    "plt.savefig('Figures/bootstrapCI_github_proportion.png')\n",
    "plt.show()"
   ]
  }
 ],
 "metadata": {
  "kernelspec": {
   "display_name": "Python 3 (ipykernel)",
   "language": "python",
   "name": "python3"
  },
  "language_info": {
   "codemirror_mode": {
    "name": "ipython",
    "version": 3
   },
   "file_extension": ".py",
   "mimetype": "text/x-python",
   "name": "python",
   "nbconvert_exporter": "python",
   "pygments_lexer": "ipython3",
   "version": "3.9.7"
  }
 },
 "nbformat": 4,
 "nbformat_minor": 4
}
