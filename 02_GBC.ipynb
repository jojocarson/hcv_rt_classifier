{
 "cells": [
  {
   "cell_type": "markdown",
   "metadata": {},
   "source": [
    "## 02 Gradient boosting classifier"
   ]
  },
  {
   "cell_type": "code",
   "execution_count": null,
   "metadata": {},
   "outputs": [],
   "source": [
    "# import libraries\n",
    "from sklearn.ensemble import GradientBoostingClassifier\n",
    "from sklearn.model_selection import train_test_split, GridSearchCV\n",
    "from sklearn.metrics import classification_report, confusion_matrix, accuracy_score"
   ]
  },
  {
   "cell_type": "markdown",
   "metadata": {},
   "source": [
    "### Gradient boosting classifier with default parameters"
   ]
  },
  {
   "cell_type": "code",
   "execution_count": null,
   "metadata": {},
   "outputs": [],
   "source": [
    "# declare vector and target variable\n",
    "X = rt_data.drop(['reinfection'], axis=1)\n",
    "y = rt_data['reinfection']\n",
    "\n",
    "# split into training and testing\n",
    "X_train, X_test, y_train, y_test = train_test_split(X, y, test_size = 0.33, random_state = 0)\n",
    "\n",
    "# instantiate the classifier \n",
    "gb = GradientBoostingClassifier(random_state=0)\n",
    "\n",
    "# fit the model\n",
    "gb.fit(X_train, y_train)\n",
    "\n",
    "# Predict the Test set results\n",
    "y_pred = gb.predict(X_test)\n",
    "\n",
    "from sklearn.metrics import accuracy_score\n",
    "print('Model accuracy score with default parameters : {0:0.4f}'. format(accuracy_score(y_test, y_pred)))"
   ]
  },
  {
   "cell_type": "markdown",
   "metadata": {},
   "source": [
    "### Nested cross validation"
   ]
  },
  {
   "cell_type": "code",
   "execution_count": null,
   "metadata": {},
   "outputs": [],
   "source": [
    "# declare feature vector and target variable\n",
    "X = rt_data.drop(['reinfection'], axis=1)\n",
    "y = rt_data['reinfection']\n",
    "\n",
    "# configure the cross-validation procedure\n",
    "cv_outer = KFold(n_splits=10, shuffle=True, random_state=0)\n",
    "\n",
    "## All\n",
    "outer_results = list()\n",
    "\n",
    "## assign array for predictions\n",
    "y_test_all = np.array([])\n",
    "yhat_all = np.array([])\n",
    "\n",
    "for train_ix, test_ix in cv_outer.split(X):\n",
    "    \n",
    "    # split data\n",
    "    X_train, X_test = X.iloc[train_ix, :], X.iloc[test_ix, :]\n",
    "    y_train, y_test = y[train_ix], y[test_ix]\n",
    "\n",
    "    # configure the cross-validation procedure\n",
    "    cv_inner = KFold(n_splits=3, shuffle=True, random_state=0)\n",
    "    \n",
    "    # define the model\n",
    "    gb = GradientBoostingClassifier(random_state=0)\n",
    "    \n",
    "    # define search space\n",
    "    space = dict()\n",
    "    space['n_estimators'] = [50, 100, 200, 300, 500]\n",
    "    space['max_depth'] = [5, 10, 15, 20]\n",
    "    space['learning_rate'] = [0.05, 0.1, 0.25, 0.5, 0.75, 1]\n",
    "    space['max_features'] = ['sqrt', 'log2', 5, 10, 15, 20]\n",
    "    space['criterion'] = ['friedman_mse', 'mse']\n",
    "\n",
    "    # define search\n",
    "    search = GridSearchCV(gb, space, scoring='accuracy', cv=cv_inner, refit=True)\n",
    "    # execute search\n",
    "    result = search.fit(X_train, y_train)\n",
    "    # get the best performing model fit on the whole training set\n",
    "    best_model = result.best_estimator_\n",
    "    # evaluate model on the hold out dataset\n",
    "    yhat = best_model.predict(X_test)\n",
    "\n",
    "    # evaluate the accuracy of the model\n",
    "    acc = accuracy_score(y_test, yhat)\n",
    "    \n",
    "    # store the accracy result\n",
    "    outer_results.append(acc)\n",
    "    \n",
    "    # report progress\n",
    "    print('>acc=%.4f, est=%.4f, cfg=%s' % (acc, result.best_score_, result.best_params_))\n",
    "\n",
    "    # to get the classification report\n",
    "    y_test_all = np.append(y_test_all, y_test) \n",
    "    yhat_all = np.append(yhat_all, yhat)\n",
    "    print(classification_report(y_test_all, yhat_all, digits=4))\n",
    "    print(confusion_matrix(y_test_all, yhat_all))\n",
    "\n",
    "# print summarized estimated performance of the model\n",
    "print('Accuracy: %.4f (%.4f)' % (mean(outer_results), std(outer_results)))"
   ]
  },
  {
   "cell_type": "code",
   "execution_count": null,
   "metadata": {},
   "outputs": [],
   "source": [
    "# declare feature vector and target variable\n",
    "X = rt_data.drop(['reinfection'], axis=1)\n",
    "y = rt_data['reinfection']\n",
    "\n",
    "# configure the cross-validation procedure\n",
    "cv_outer = KFold(n_splits=10, shuffle=True, random_state=0)\n",
    "\n",
    "outer_results = list()\n",
    "\n",
    "# configure the cross-validation procedure\n",
    "cv_inner = KFold(n_splits=3, shuffle=True, random_state=0)\n",
    "    \n",
    "# define the model\n",
    "gbc = GradientBoostingClassifier(random_state=0)\n",
    "    \n",
    "# define search space\n",
    "space = dict()\n",
    "space['n_estimators'] = [50, 100, 200, 300, 500]\n",
    "space['max_depth'] = [5, 10, 15, 20]\n",
    "space['learning_rate'] = [0.05, 0.1, 0.25, 0.5, 0.75, 1]\n",
    "space['max_features'] = ['sqrt', 'log2', 5, 10, 15, 20]\n",
    "space['criterion'] = ['friedman_mse', 'mse']\n",
    "\n",
    "# define search\n",
    "search = GridSearchCV(gbc, space, scoring='accuracy', cv=cv_inner, refit=True)\n",
    "# execute search\n",
    "result = search.fit(X_train, y_train)\n",
    "# get the best performing model fit on the whole training set\n",
    "best_model = result.best_estimator_\n",
    "\n",
    "# Get parameters of the best model\n",
    "print(best_model)"
   ]
  }
 ],
 "metadata": {
  "kernelspec": {
   "display_name": "Python 3 (ipykernel)",
   "language": "python",
   "name": "python3"
  },
  "language_info": {
   "codemirror_mode": {
    "name": "ipython",
    "version": 3
   },
   "file_extension": ".py",
   "mimetype": "text/x-python",
   "name": "python",
   "nbconvert_exporter": "python",
   "pygments_lexer": "ipython3",
   "version": "3.9.7"
  }
 },
 "nbformat": 4,
 "nbformat_minor": 4
}
